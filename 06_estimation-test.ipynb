{
 "cells": [
  {
   "cell_type": "markdown",
   "id": "85fadd6d-44ca-4f50-8955-68b0351bfa8b",
   "metadata": {},
   "source": [
    "#"
   ]
  },
  {
   "cell_type": "markdown",
   "id": "9802b7dc",
   "metadata": {},
   "source": [
    "# 母平均の区間推定\n",
    "\n",
    "1. 母分散が既知の場合  \n",
    "\ta. サンブル数が３０以上の場合、正規分布（分散は母分散）  \n",
    "\tb. サンプル数が３０未満の場合、正規分布（分散は母分散）  \n",
    "\n",
    "2. 母分散が未知の場合  \n",
    "\ta. サンブル数が３０以上の場合、正規分布（分散は標本分散）    \n",
    "\tb. サンプル数が３０未満の場合、t分布（自由度n-1）"
   ]
  },
  {
   "cell_type": "markdown",
   "id": "548064be",
   "metadata": {},
   "source": [
    "## 例題 (1)母分散が既知の場合\n",
    "\n",
    "ある園芸農家が出荷予定のカーネーション16本のつぼみの直径を調べたところ，平均で10.0mmでした．　　\n",
    "この園芸農家の栽培しているカーネーションのつぼみの平均直径を信頼度95％で区間推定すると，どのようになるでしょうか？\n",
    "なお，母分散は36.00mm2とわかっているものとします．"
   ]
  },
  {
   "cell_type": "code",
   "execution_count": 4,
   "id": "02c19e8e",
   "metadata": {
    "vscode": {
     "languageId": "r"
    }
   },
   "outputs": [
    {
     "data": {
      "text/html": [
       "7.06005402318992"
      ],
      "text/latex": [
       "7.06005402318992"
      ],
      "text/markdown": [
       "7.06005402318992"
      ],
      "text/plain": [
       "[1] 7.060054"
      ]
     },
     "metadata": {},
     "output_type": "display_data"
    },
    {
     "data": {
      "text/html": [
       "12.9399459768101"
      ],
      "text/latex": [
       "12.9399459768101"
      ],
      "text/markdown": [
       "12.9399459768101"
      ],
      "text/plain": [
       "[1] 12.93995"
      ]
     },
     "metadata": {},
     "output_type": "display_data"
    }
   ],
   "source": [
    "n <- 16 # 標本の大きさ\n",
    "x <- 10 # 標本平均\n",
    "var1 <- 36 # 母分散\n",
    "alpha <- 0.05 # 有意水準\n",
    "z <- qnorm(1-alpha/2) # z-value\n",
    "(lower <- x-z*sqrt(var1/n)) # 下限値\n",
    "(upper <- x+z*sqrt(var1/n)) # 上限値"
   ]
  },
  {
   "cell_type": "markdown",
   "id": "b732a1db",
   "metadata": {},
   "source": [
    "## 例題 (2)母分散が未知の場合\n",
    "\n",
    "ある酪農家が搾乳中のホルスタイン5頭の乳量を調べたら，１頭あたりの平均乳量は22.1リットル，不偏標準偏差は6.5リットルでした．\n",
    "この農家が飼っているホルスタインの１頭当たりの乳量(/日)を信頼度95%で推定してください．\n",
    "\n",
    "\n"
   ]
  },
  {
   "cell_type": "code",
   "execution_count": 6,
   "id": "f5215b4b",
   "metadata": {
    "vscode": {
     "languageId": "r"
    }
   },
   "outputs": [
    {
     "data": {
      "text/html": [
       "2.77644510519779"
      ],
      "text/latex": [
       "2.77644510519779"
      ],
      "text/markdown": [
       "2.77644510519779"
      ],
      "text/plain": [
       "[1] 2.776445"
      ]
     },
     "metadata": {},
     "output_type": "display_data"
    },
    {
     "data": {
      "text/html": [
       "31.1234465918928"
      ],
      "text/latex": [
       "31.1234465918928"
      ],
      "text/markdown": [
       "31.1234465918928"
      ],
      "text/plain": [
       "[1] 31.12345"
      ]
     },
     "metadata": {},
     "output_type": "display_data"
    },
    {
     "data": {
      "text/html": [
       "13.0765534081072"
      ],
      "text/latex": [
       "13.0765534081072"
      ],
      "text/markdown": [
       "13.0765534081072"
      ],
      "text/plain": [
       "[1] 13.07655"
      ]
     },
     "metadata": {},
     "output_type": "display_data"
    }
   ],
   "source": [
    "n <- 5 # サンプルサイズ\n",
    "df <-- n-1 # 自由度\n",
    "s <-- 6.5 # 不偏標準偏差\n",
    "alpha <- 0.05 # 有意水準\n",
    "(t <- qt(1-(alpha/2), n-1)) # 境界値(両側確率なので α/2)\n",
    "SE <- s/sqrt(n-1) \n",
    "(lower <- 22.1 - t*SE) # 95%信頼区間の下限\n",
    "(upper <- 22.1 + t*SE) # 95%信頼区間の上限"
   ]
  },
  {
   "cell_type": "markdown",
   "id": "1a5dbe82",
   "metadata": {},
   "source": [
    "## 例題 母比率の推定問題例\n",
    "\n",
    "  とある市の市長選でA氏とB氏が立候補しました．あるテレビ局が選挙速報のために出口調査を行いました．\n",
    "300人について出口調査を行った結果，A氏に投票した人が168人というデータが得られました．\n",
    "過半数の得票で当選すると考えると，この出口調査の結果からA氏の当選確実の予想を出せるでしょうか?\n"
   ]
  },
  {
   "cell_type": "code",
   "execution_count": 9,
   "id": "1e7f4b4f",
   "metadata": {
    "vscode": {
     "languageId": "r"
    }
   },
   "outputs": [
    {
     "data": {
      "text/plain": [
       "\n",
       "\tExact binomial test\n",
       "\n",
       "data:  168 and 300\n",
       "number of successes = 168, number of trials = 300, p-value = 0.04313\n",
       "alternative hypothesis: true probability of success is not equal to 0.5\n",
       "95 percent confidence interval:\n",
       " 0.5018048 0.6169985\n",
       "sample estimates:\n",
       "probability of success \n",
       "                  0.56 \n"
      ]
     },
     "metadata": {},
     "output_type": "display_data"
    }
   ],
   "source": [
    "binom.test(168, 300)"
   ]
  },
  {
   "cell_type": "markdown",
   "id": "54218fc2",
   "metadata": {},
   "source": [
    "今求めようとしている95%信頼区間\n",
    "```\n",
    "95 percent confidence interval:\n",
    "0.5018048 0.6169985\n",
    "```\n",
    "\n",
    "この場合， 母比率の95%信頼区間は  \n",
    "50.1≤p≤61.7  \n",
    "となる  \n",
    "\n",
    "\n",
    "「信頼度95%のもとで，A氏の得票率の信頼区間は 50.1%から61.7%と推定できる」という結果が得られる\n",
    "\n",
    "この結果を見ると，区間推定の下限値がギリギリで過半数の50%を超えているので，選挙速報でも「当確を出せる」ということになる  \n",
    "ただし，信頼度95%なので，5%の確率でこの当確予測は外れて誤報となる可能性もありえる\n"
   ]
  },
  {
   "cell_type": "markdown",
   "id": "a03eebed",
   "metadata": {},
   "source": [
    "信頼度を指定したい場合はオプションの conf.level をもちいる\n",
    "\n",
    "信頼度99%の場合は"
   ]
  },
  {
   "cell_type": "code",
   "execution_count": 11,
   "id": "88b0ece3",
   "metadata": {
    "vscode": {
     "languageId": "r"
    }
   },
   "outputs": [
    {
     "data": {
      "text/plain": [
       "\n",
       "\tExact binomial test\n",
       "\n",
       "data:  168 and 300\n",
       "number of successes = 168, number of trials = 300, p-value = 0.04313\n",
       "alternative hypothesis: true probability of success is not equal to 0.5\n",
       "99 percent confidence interval:\n",
       " 0.4840299 0.6340240\n",
       "sample estimates:\n",
       "probability of success \n",
       "                  0.56 \n"
      ]
     },
     "metadata": {},
     "output_type": "display_data"
    }
   ],
   "source": [
    "binom.test(168, 300, conf.level=0.99)"
   ]
  },
  {
   "cell_type": "markdown",
   "id": "d89b243d",
   "metadata": {},
   "source": [
    "1標本の平均の検定なのでt検定を使う\n",
    "検定統計量t,有意確率p-valueをRで求める"
   ]
  },
  {
   "cell_type": "code",
   "execution_count": 2,
   "id": "143c2b0f-7d4d-4385-a579-fc8cf8c62790",
   "metadata": {
    "vscode": {
     "languageId": "r"
    }
   },
   "outputs": [
    {
     "data": {
      "text/plain": [
       "\n",
       "\tOne Sample t-test\n",
       "\n",
       "data:  brake\n",
       "t = -0.65154, df = 10, p-value = 0.5294\n",
       "alternative hypothesis: true mean is not equal to 40\n",
       "95 percent confidence interval:\n",
       " 30.23621 45.34561\n",
       "sample estimates:\n",
       "mean of x \n",
       " 37.79091 \n"
      ]
     },
     "metadata": {},
     "output_type": "display_data"
    }
   ],
   "source": [
    "brake <- c(39.9,41,4,39.9,41.3,42.1,42.0,41.6,42.3,39.8,41.8)\n",
    "t.test(brake,mu=40)"
   ]
  },
  {
   "cell_type": "markdown",
   "id": "60685012",
   "metadata": {},
   "source": [
    "### 結果の見方\n",
    "```\n",
    "> alternative hypothesis: true mean is not equal to 40\n",
    "```\n",
    "結果：対立仮説、真の平均は40ではない\n",
    "\n",
    "95%の信頼区間は 30.23... - 45.35...\n",
    "標本平均は 37.79..."
   ]
  },
  {
   "cell_type": "markdown",
   "id": "eaa3f3da",
   "metadata": {},
   "source": [
    "## 仮説検定の手順\n",
    "\n",
    "1. 帰無仮説と対立仮説を立てる．\n",
    "2. 検定の目的に応じて，検定方法を選ぶ(t検定，カイ二乗検定など)\n",
    "3. 統計ツールで検定統計量を計算する．(t値，カイ二乗値など)\n",
    "4. 統計ツールで有意確率 P値 p-value を計算する．\n",
    "5. 有意確率 p-value を有意水準αと比較し， 帰無仮説を評価する．"
   ]
  },
  {
   "cell_type": "markdown",
   "id": "0c79f20a",
   "metadata": {},
   "source": [
    "# 母平均の差の検定\n",
    "\n",
    "新しい販売促進キャンペーンを行ったとする．従来のキャンペーンを行ったグループAと新しいキャンペーンを行ったグループBとで効果を比較したい．AとBのグループで10名を抽出し，グループ間で1か月の購入金額に差があるのかどうかを検証する場合について考える\n",
    "\n",
    "Aグループ 11,10,7,10,8,13,8,9,10,11  \n",
    "Bグループ 12,10,12,11,11,9,16,17,13,11  \n",
    "(単位：千円)  \n",
    "\n",
    "\n",
    "帰無仮説H0と対立仮説H1を立てる\n",
    "いま，新しいキャンペーンBの効果を示したいので，グループで購入金額に差があることを示したいということになる\n",
    "すると，帰無仮説と対立仮説は次のようになる\n",
    "\n",
    "\n",
    "帰無仮説 H0 : 2つのグループで購入金額に差がない  \n",
    "対立仮説 H1 : 2つのグループで購入金額に差がある  \n",
    "\n",
    "\n",
    "”差がない” つまり，”購入金額の平均値の差が0である”という帰無仮説H0が棄却されれば，\n",
    "対立仮説H1(=本当に示したいこと)を採択することができ\n",
    "\n",
    "2つのグループの平均値に差があるかどうかを統計的に比較し，\n",
    "差が意味のある(有意である)ものかどうかを検定する場合にはt検定を用いる\n"
   ]
  },
  {
   "cell_type": "code",
   "execution_count": 12,
   "id": "134ab051",
   "metadata": {
    "vscode": {
     "languageId": "r"
    }
   },
   "outputs": [
    {
     "data": {
      "text/plain": [
       "\n",
       "\tWelch Two Sample t-test\n",
       "\n",
       "data:  A and B\n",
       "t = -2.562, df = 16.093, p-value = 0.02082\n",
       "alternative hypothesis: true difference in means is not equal to 0\n",
       "95 percent confidence interval:\n",
       " -4.5676709 -0.4323291\n",
       "sample estimates:\n",
       "mean of x mean of y \n",
       "      9.7      12.2 \n"
      ]
     },
     "metadata": {},
     "output_type": "display_data"
    }
   ],
   "source": [
    "A <- c(11,10,7,10,8,13,8,9,10,11)\n",
    "B <- c(12,10,12,11,11,9,16,17,13,11)\n",
    "t.test(A,B)"
   ]
  },
  {
   "cell_type": "markdown",
   "id": "5bb3b372",
   "metadata": {},
   "source": [
    "- 有意水準が5%のときにP値が0.05以下であれば，帰無仮説は棄却される\n",
    "- 今回は 0.02082なので帰無仮説H0が棄却され，対立仮説H1が採択される\n",
    "- よって，「2つのグループで購入金額に差がある」と結論づけることができる\n"
   ]
  },
  {
   "cell_type": "markdown",
   "id": "452b9dfb",
   "metadata": {},
   "source": [
    "# 例題　母比率の差の検定\n",
    "\n",
    "独立した複数のグループ間で集計した成功・失敗(あるいは陽性・陰性や，該当・非該当，賛成・反対など)の比率の差の検定を行う場合を考える\n",
    "\n",
    "あるテレビ番組の視聴率の調査で都市Aでは600人中116人(19.3%)が，都市Bでは300人中72人(24.0%)が視聴しました．\n",
    "両都市で統計的に視聴率が異なると言えるかどうかを仮説検定します．\n",
    "\n",
    "仮説は次のように立てる．\n",
    "\n",
    "帰無仮説 H0 ：両都市で視聴率に差がない\n",
    "対立仮説 H1 ：両都市で視聴率に差がある\n",
    "\n",
    "これは独立している2つの標本の母比率の差の検定になる"
   ]
  },
  {
   "cell_type": "code",
   "execution_count": 14,
   "id": "f38984d8-86e8-49b5-94dc-a38eecf58cfe",
   "metadata": {
    "vscode": {
     "languageId": "r"
    }
   },
   "outputs": [
    {
     "data": {
      "text/plain": [
       "\n",
       "\t2-sample test for equality of proportions with continuity correction\n",
       "\n",
       "data:  c(116, 72) out of c(600, 300)\n",
       "X-squared = 2.3608, df = 1, p-value = 0.1244\n",
       "alternative hypothesis: two.sided\n",
       "95 percent confidence interval:\n",
       " -0.10690835  0.01357501\n",
       "sample estimates:\n",
       "   prop 1    prop 2 \n",
       "0.1933333 0.2400000 \n"
      ]
     },
     "metadata": {},
     "output_type": "display_data"
    }
   ],
   "source": [
    "prop.test(c(116,72), c(600, 300))"
   ]
  },
  {
   "cell_type": "markdown",
   "id": "e1de4575",
   "metadata": {},
   "source": [
    "- p-value が 0.05より大きいため，信頼度95%のもとで帰無仮説H0は棄却できない\n",
    "- よって，「両都市で視聴率に差があるとはいえない」という結論になる\n",
    "- 今回の調査結果における視聴率の差は，偶然の範囲内で起こってもおかしくない程度であるということがわかる\n",
    "\n"
   ]
  },
  {
   "cell_type": "markdown",
   "id": "7ee8ee28",
   "metadata": {},
   "source": [
    "## 例題　独立性の検定\n",
    "\n",
    "ある2つの変数がカテゴリ変数のときに，2変数間の関連を明らかにしたい場合はカイ二乗検定を行う．\n",
    "このような場合は2変数のクロス集計表を作成する．\n",
    "そしてクロス集計表に基づいて，二変数が独立かどうかを検定する\n",
    "\n",
    "この方法としてカイ二乗検定(χ2検定)やフィッシャーの正確検定がある\n",
    "\n",
    "ある政策への賛否について新聞A紙, B紙，C紙の購読者に尋ねたところ，\n",
    "表のような結果が得られました．購読紙と政策の賛否の関係が独立であるかどうか調べます．\n",
    "\n",
    "|    |  賛成  |  どちらともいえない  |  反対   |\n",
    "| ---- | ---- | ---- | ---- |\n",
    "|  A紙  |  80  |  30  |  20  |\n",
    "|  B紙  |  40  |  30  |  50  |\n",
    "|  C紙  |  40  |  40  |  60  |\n",
    "\n",
    "帰無仮説 H0 : 購読紙と政策の賛否には関係がない(独立である)\n",
    "対立仮説 H1 : 購読紙と政策の賛否には関係がある(独立でない)\n",
    "\n"
   ]
  },
  {
   "cell_type": "code",
   "execution_count": 16,
   "id": "5cee45fa-3e83-4901-aebe-495596430a60",
   "metadata": {
    "vscode": {
     "languageId": "r"
    }
   },
   "outputs": [
    {
     "data": {
      "text/html": [
       "<table class=\"dataframe\">\n",
       "<caption>A matrix: 3 × 3 of type dbl</caption>\n",
       "<thead>\n",
       "\t<tr><th></th><th scope=col>賛成</th><th scope=col>どちらともいえない</th><th scope=col>反対</th></tr>\n",
       "</thead>\n",
       "<tbody>\n",
       "\t<tr><th scope=row>A紙</th><td>80</td><td>30</td><td>20</td></tr>\n",
       "\t<tr><th scope=row>B紙</th><td>40</td><td>30</td><td>50</td></tr>\n",
       "\t<tr><th scope=row>C紙</th><td>40</td><td>40</td><td>60</td></tr>\n",
       "</tbody>\n",
       "</table>\n"
      ],
      "text/latex": [
       "A matrix: 3 × 3 of type dbl\n",
       "\\begin{tabular}{r|lll}\n",
       "  & 賛成 & どちらともいえない & 反対\\\\\n",
       "\\hline\n",
       "\tA紙 & 80 & 30 & 20\\\\\n",
       "\tB紙 & 40 & 30 & 50\\\\\n",
       "\tC紙 & 40 & 40 & 60\\\\\n",
       "\\end{tabular}\n"
      ],
      "text/markdown": [
       "\n",
       "A matrix: 3 × 3 of type dbl\n",
       "\n",
       "| <!--/--> | 賛成 | どちらともいえない | 反対 |\n",
       "|---|---|---|---|\n",
       "| A紙 | 80 | 30 | 20 |\n",
       "| B紙 | 40 | 30 | 50 |\n",
       "| C紙 | 40 | 40 | 60 |\n",
       "\n"
      ],
      "text/plain": [
       "    賛成 どちらともいえない 反対\n",
       "A紙 80   30                 20  \n",
       "B紙 40   30                 50  \n",
       "C紙 40   40                 60  "
      ]
     },
     "metadata": {},
     "output_type": "display_data"
    },
    {
     "data": {
      "text/plain": [
       "\n",
       "\tPearson's Chi-squared test\n",
       "\n",
       "data:  x\n",
       "X-squared = 40.052, df = 4, p-value = 4.222e-08\n"
      ]
     },
     "metadata": {},
     "output_type": "display_data"
    }
   ],
   "source": [
    "x<-matrix(c(80, 30, 20, 40,30,50,40,40,60), ncol=3, byrow=T)\n",
    "answer <- c(\"賛成\",\"どちらともいえない\", \"反対\")\n",
    "paper <- c(\"A紙\", \"B紙\", \"C紙\")\n",
    "colnames(x) <-answer\n",
    "rownames(x) <- paper\n",
    "x\n",
    "\n",
    "chisq.test(x)"
   ]
  },
  {
   "cell_type": "markdown",
   "id": "d9fc2b53",
   "metadata": {},
   "source": [
    "- カイ二乗値 X-squared, 自由度df, P値p-valueが表示される\n",
    "- P値が0.05以下なので 帰無仮説は棄却される\n",
    "- つまり，対立仮説H1が採択されることになり，「購読紙と政策の賛否には関係がある」，購読紙と政策の賛否は独立でないという結論になる"
   ]
  },
  {
   "cell_type": "code",
   "execution_count": null,
   "id": "b442e1b5",
   "metadata": {
    "vscode": {
     "languageId": "r"
    }
   },
   "outputs": [],
   "source": []
  },
  {
   "cell_type": "code",
   "execution_count": null,
   "id": "4c6a080c-3548-46cc-a9d4-f58a38b1b924",
   "metadata": {
    "vscode": {
     "languageId": "r"
    }
   },
   "outputs": [],
   "source": []
  },
  {
   "cell_type": "code",
   "execution_count": null,
   "id": "bf7b9a15-ed9a-49d1-bcba-90f81c73c115",
   "metadata": {
    "vscode": {
     "languageId": "r"
    }
   },
   "outputs": [],
   "source": []
  },
  {
   "cell_type": "code",
   "execution_count": null,
   "id": "6ec9928a-56e2-44ac-ab8f-3327be93c828",
   "metadata": {
    "vscode": {
     "languageId": "r"
    }
   },
   "outputs": [],
   "source": []
  },
  {
   "cell_type": "code",
   "execution_count": null,
   "id": "d09f2006-5240-4e46-87a5-ed98023eaf26",
   "metadata": {
    "vscode": {
     "languageId": "r"
    }
   },
   "outputs": [],
   "source": []
  },
  {
   "cell_type": "code",
   "execution_count": null,
   "id": "340b0bd7",
   "metadata": {
    "vscode": {
     "languageId": "r"
    }
   },
   "outputs": [],
   "source": []
  }
 ],
 "metadata": {
  "kernelspec": {
   "display_name": "R",
   "language": "R",
   "name": "ir"
  },
  "language_info": {
   "codemirror_mode": "r",
   "file_extension": ".r",
   "mimetype": "text/x-r-source",
   "name": "R",
   "pygments_lexer": "r",
   "version": "4.2.1"
  }
 },
 "nbformat": 4,
 "nbformat_minor": 5
}
