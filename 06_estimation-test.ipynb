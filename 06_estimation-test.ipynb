{
 "cells": [
  {
   "cell_type": "markdown",
   "id": "85fadd6d-44ca-4f50-8955-68b0351bfa8b",
   "metadata": {},
   "source": [
    "#"
   ]
  },
  {
   "cell_type": "markdown",
   "id": "9802b7dc",
   "metadata": {},
   "source": [
    "# 母平均の区間推定\n",
    "\n",
    "1. 母分散が既知の場合  \n",
    "\ta. サンブル数が３０以上の場合、正規分布（分散は母分散）  \n",
    "\tb. サンプル数が３０未満の場合、正規分布（分散は標本分散）  \n",
    "\n",
    "2. 母分散が未知の場合  \n",
    "\ta. サンブル数が３０以上の場合、  \n",
    "\tb. サンプル数が３０未満の場合、  "
   ]
  },
  {
   "cell_type": "code",
   "execution_count": null,
   "id": "02c19e8e",
   "metadata": {
    "vscode": {
     "languageId": "r"
    }
   },
   "outputs": [],
   "source": []
  },
  {
   "cell_type": "markdown",
   "id": "d89b243d",
   "metadata": {},
   "source": [
    "1標本の平均の検定なのでt検定を使う\n",
    "検定統計量t,有意確率p-valueをRで求める"
   ]
  },
  {
   "cell_type": "code",
   "execution_count": 2,
   "id": "143c2b0f-7d4d-4385-a579-fc8cf8c62790",
   "metadata": {
    "vscode": {
     "languageId": "r"
    }
   },
   "outputs": [
    {
     "data": {
      "text/plain": [
       "\n",
       "\tOne Sample t-test\n",
       "\n",
       "data:  brake\n",
       "t = -0.65154, df = 10, p-value = 0.5294\n",
       "alternative hypothesis: true mean is not equal to 40\n",
       "95 percent confidence interval:\n",
       " 30.23621 45.34561\n",
       "sample estimates:\n",
       "mean of x \n",
       " 37.79091 \n"
      ]
     },
     "metadata": {},
     "output_type": "display_data"
    }
   ],
   "source": [
    "brake <- c(39.9,41,4,39.9,41.3,42.1,42.0,41.6,42.3,39.8,41.8)\n",
    "t.test(brake,mu=40)"
   ]
  },
  {
   "cell_type": "markdown",
   "id": "60685012",
   "metadata": {},
   "source": [
    "### 結果の見方\n",
    "```\n",
    "> alternative hypothesis: true mean is not equal to 40\n",
    "```\n",
    "結果：対立仮説、真の平均は40ではない\n",
    "\n",
    "95%の信頼区間は 30.23... - 45.35...\n",
    "標本平均は 37.79..."
   ]
  },
  {
   "cell_type": "code",
   "execution_count": null,
   "id": "f38984d8-86e8-49b5-94dc-a38eecf58cfe",
   "metadata": {
    "vscode": {
     "languageId": "r"
    }
   },
   "outputs": [],
   "source": []
  },
  {
   "cell_type": "code",
   "execution_count": null,
   "id": "5cee45fa-3e83-4901-aebe-495596430a60",
   "metadata": {
    "vscode": {
     "languageId": "r"
    }
   },
   "outputs": [],
   "source": []
  },
  {
   "cell_type": "code",
   "execution_count": null,
   "id": "4c6a080c-3548-46cc-a9d4-f58a38b1b924",
   "metadata": {
    "vscode": {
     "languageId": "r"
    }
   },
   "outputs": [],
   "source": []
  },
  {
   "cell_type": "code",
   "execution_count": null,
   "id": "bf7b9a15-ed9a-49d1-bcba-90f81c73c115",
   "metadata": {
    "vscode": {
     "languageId": "r"
    }
   },
   "outputs": [],
   "source": []
  },
  {
   "cell_type": "code",
   "execution_count": null,
   "id": "6ec9928a-56e2-44ac-ab8f-3327be93c828",
   "metadata": {
    "vscode": {
     "languageId": "r"
    }
   },
   "outputs": [],
   "source": []
  },
  {
   "cell_type": "code",
   "execution_count": null,
   "id": "d09f2006-5240-4e46-87a5-ed98023eaf26",
   "metadata": {
    "vscode": {
     "languageId": "r"
    }
   },
   "outputs": [],
   "source": []
  }
 ],
 "metadata": {
  "kernelspec": {
   "display_name": "R",
   "language": "R",
   "name": "ir"
  },
  "language_info": {
   "codemirror_mode": "r",
   "file_extension": ".r",
   "mimetype": "text/x-r-source",
   "name": "R",
   "pygments_lexer": "r",
   "version": "4.2.1"
  }
 },
 "nbformat": 4,
 "nbformat_minor": 5
}
